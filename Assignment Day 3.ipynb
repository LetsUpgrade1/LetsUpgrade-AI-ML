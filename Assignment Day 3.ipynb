{
 "cells": [
  {
   "cell_type": "markdown",
   "metadata": {},
   "source": [
    "Question 1 :\n",
    "Write a program to subtract two complex numbers in Python.\n"
   ]
  },
  {
   "cell_type": "code",
   "execution_count": 4,
   "metadata": {},
   "outputs": [
    {
     "name": "stdout",
     "output_type": "stream",
     "text": [
      "(1+1j)\n"
     ]
    }
   ],
   "source": [
    "def Mycomplex(a,b):\n",
    "    return a-b\n",
    "\n",
    "z1 = complex(2, 3) \n",
    "z2 = complex(1, 2) \n",
    "x=Mycomplex(z1,z2)\n",
    "\n",
    "print(x)"
   ]
  },
  {
   "cell_type": "markdown",
   "metadata": {},
   "source": [
    "Question 2 :\n",
    "Write a program to find the fourth root of a number.\n"
   ]
  },
  {
   "cell_type": "code",
   "execution_count": 15,
   "metadata": {},
   "outputs": [
    {
     "name": "stdout",
     "output_type": "stream",
     "text": [
      "1.8612097182041991\n"
     ]
    }
   ],
   "source": [
    "import math as m\n",
    "def Myroot(n):\n",
    "    g=m.sqrt(m.sqrt(n))\n",
    "    return g\n",
    "\n",
    "v=Myroot(12)\n",
    "print(v)"
   ]
  },
  {
   "cell_type": "markdown",
   "metadata": {},
   "source": [
    "Question 3:\n",
    "Write a program to swap two numbers in Python with the help of a temporary variable.\n"
   ]
  },
  {
   "cell_type": "code",
   "execution_count": 17,
   "metadata": {},
   "outputs": [
    {
     "name": "stdout",
     "output_type": "stream",
     "text": [
      "(2, 1)\n"
     ]
    }
   ],
   "source": [
    "def Myswap(x,y):\n",
    "    temp=x\n",
    "    x=y\n",
    "    y=temp\n",
    "    return (x,y)\n",
    "\n",
    "o=Myswap(1,2)\n",
    "print(o)"
   ]
  },
  {
   "cell_type": "markdown",
   "metadata": {},
   "source": [
    "Question 4:\n",
    "Write a program to swap two numbers in Python without using a temporary variable.\n"
   ]
  },
  {
   "cell_type": "code",
   "execution_count": 21,
   "metadata": {},
   "outputs": [
    {
     "name": "stdout",
     "output_type": "stream",
     "text": [
      "(5, 10)\n"
     ]
    }
   ],
   "source": [
    "def Swapper(x,y):\n",
    "    x = x + y   \n",
    "    y = x - y  \n",
    "    x = x - y  \n",
    "    return (x,y)\n",
    "\n",
    "p=Swapper(10,5)\n",
    "\n",
    "print(p)"
   ]
  },
  {
   "cell_type": "markdown",
   "metadata": {},
   "source": [
    "Question 5:\n",
    "Write a program to convert fahrenheit to kelvin and celsius both."
   ]
  },
  {
   "cell_type": "code",
   "execution_count": 23,
   "metadata": {},
   "outputs": [
    {
     "name": "stdout",
     "output_type": "stream",
     "text": [
      "(37.77777777777778, 311.27777777777777)\n"
     ]
    }
   ],
   "source": [
    "def Mytemp(fah):\n",
    "    cel = (fah - 32) * 5.0/9.0\n",
    "    kel = 273.5 + ((fah - 32.0) * (5.0/9.0))\n",
    "    return (cel,kel)\n",
    "\n",
    "t=Mytemp(100)\n",
    "print(t)"
   ]
  },
  {
   "cell_type": "markdown",
   "metadata": {},
   "source": [
    "Question 6:\n",
    "Write a program to demonstrate all the available data types in Python. Hint: Use type() function.\n"
   ]
  },
  {
   "cell_type": "code",
   "execution_count": 26,
   "metadata": {},
   "outputs": [
    {
     "name": "stdout",
     "output_type": "stream",
     "text": [
      "<class 'str'>\n",
      "<class 'int'>\n",
      "<class 'float'>\n",
      "<class 'list'>\n",
      "<class 'tuple'>\n",
      "<class 'dict'>\n"
     ]
    }
   ],
   "source": [
    "a=\"Rachana\"\n",
    "b=10\n",
    "c=15.2365\n",
    "l=[1,2,3]\n",
    "tup=(1,2,3)\n",
    "dict1={\"k1\":\"v1\",\"k2\":\"v2\"}\n",
    "\n",
    "print(type(a))\n",
    "print(type(b))\n",
    "print(type(c))\n",
    "print(type(l))\n",
    "print(type(tup))\n",
    "print(type(dict1))"
   ]
  },
  {
   "cell_type": "markdown",
   "metadata": {},
   "source": [
    "Question 7:\n",
    "Create a Markdown cell in jupyter and list the steps discussed in the session by Dr. Darshan\n",
    "Ingle sir to create Github profile and upload Githubs Assignment link."
   ]
  },
  {
   "cell_type": "raw",
   "metadata": {},
   "source": [
    "The below are the steps that were discussed for creating a Github profile & uploading assignments & copying its link:\n",
    "\n",
    "1.Go to the link Github login.\n",
    "2.Create your own profile by sign in option.\n",
    "3.Fill in all details like the mail id,name,etc.\n",
    "4.Once the details are filled in you will get a mail for the verification of mailid used for login.\n",
    "5.Once the mailid is verififed your Github profile is created successfully.\n",
    "6.Login with he login credentials for Github.\n",
    "7.Once profile created click on new.\n",
    "8.Here create a new repositor which will be public.\n",
    "9.Once the repository is created it will be displayed in Github accordingly.\n",
    "10.Just go to the link which says uploading an existing file.\n",
    "11.Just upload the file & copy the link.\n",
    "12.Add this link to the assignment submission page.\n"
   ]
  },
  {
   "cell_type": "code",
   "execution_count": 2,
   "metadata": {},
   "outputs": [
    {
     "data": {
      "text/plain": [
       "'C:\\\\Users\\\\Suhas Jain\\\\AI ML Course\\\\Day 3'"
      ]
     },
     "execution_count": 2,
     "metadata": {},
     "output_type": "execute_result"
    }
   ],
   "source": [
    "import os\n",
    "os.getcwd()"
   ]
  }
 ],
 "metadata": {
  "kernelspec": {
   "display_name": "Python 3",
   "language": "python",
   "name": "python3"
  },
  "language_info": {
   "codemirror_mode": {
    "name": "ipython",
    "version": 3
   },
   "file_extension": ".py",
   "mimetype": "text/x-python",
   "name": "python",
   "nbconvert_exporter": "python",
   "pygments_lexer": "ipython3",
   "version": "3.7.6"
  }
 },
 "nbformat": 4,
 "nbformat_minor": 4
}
