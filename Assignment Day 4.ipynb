{
 "cells": [
  {
   "cell_type": "markdown",
   "metadata": {},
   "source": [
    "Question 1 :\n",
    "Research on whether addition, subtraction, multiplication, division, floor division and modulo\n",
    "operations be performed on complex numbers. Based on your study, implement a Python\n",
    "program to demonstrate these operations."
   ]
  },
  {
   "cell_type": "code",
   "execution_count": 2,
   "metadata": {},
   "outputs": [
    {
     "name": "stdout",
     "output_type": "stream",
     "text": [
      "(11+12j)\n",
      "(-1-2j)\n",
      "(-5+65j)\n",
      "(0.7647058823529411-0.05882352941176472j)\n"
     ]
    },
    {
     "ename": "TypeError",
     "evalue": "can't take floor of complex number.",
     "output_type": "error",
     "traceback": [
      "\u001b[1;31m---------------------------------------------------------------------------\u001b[0m",
      "\u001b[1;31mTypeError\u001b[0m                                 Traceback (most recent call last)",
      "\u001b[1;32m<ipython-input-2-af89ead2c8a3>\u001b[0m in \u001b[0;36m<module>\u001b[1;34m\u001b[0m\n\u001b[0;32m     36\u001b[0m \u001b[0mb\u001b[0m \u001b[1;33m=\u001b[0m \u001b[1;36m6\u001b[0m \u001b[1;33m+\u001b[0m \u001b[1;36m7j\u001b[0m\u001b[1;33m\u001b[0m\u001b[1;33m\u001b[0m\u001b[0m\n\u001b[0;32m     37\u001b[0m \u001b[1;33m\u001b[0m\u001b[0m\n\u001b[1;32m---> 38\u001b[1;33m \u001b[0mc\u001b[0m \u001b[1;33m=\u001b[0m \u001b[0ma\u001b[0m\u001b[1;33m//\u001b[0m\u001b[0mb\u001b[0m\u001b[1;33m\u001b[0m\u001b[1;33m\u001b[0m\u001b[0m\n\u001b[0m\u001b[0;32m     39\u001b[0m \u001b[0mprint\u001b[0m\u001b[1;33m(\u001b[0m\u001b[0mc\u001b[0m\u001b[1;33m)\u001b[0m\u001b[1;33m\u001b[0m\u001b[1;33m\u001b[0m\u001b[0m\n\u001b[0;32m     40\u001b[0m \u001b[1;33m\u001b[0m\u001b[0m\n",
      "\u001b[1;31mTypeError\u001b[0m: can't take floor of complex number."
     ]
    }
   ],
   "source": [
    "#Addition of Complex numbers\n",
    "\n",
    "a = 5 + 5j\n",
    "b = 6 + 7j\n",
    "\n",
    "c = a+b\n",
    "print(c)\n",
    "\n",
    "#Subtraction of Complex numbers\n",
    "\n",
    "a = 5 + 5j\n",
    "b = 6 + 7j\n",
    "\n",
    "c = a-b\n",
    "print(c)\n",
    "\n",
    "#Multiplication of Complex numbers\n",
    "\n",
    "a = 5 + 5j\n",
    "b = 6 + 7j\n",
    "\n",
    "c = a*b\n",
    "print(c)\n",
    "\n",
    "#Division of Complex numbers\n",
    "\n",
    "a = 5 + 5j\n",
    "b = 6 + 7j\n",
    "\n",
    "c = a/b\n",
    "print(c)\n",
    "\n",
    "#Floor Division of Complex numbers\n",
    "\n",
    "a = 5 + 5j\n",
    "b = 6 + 7j\n",
    "\n",
    "c = a//b\n",
    "print(c)\n",
    "\n",
    "#Modulo of Complex numbers\n",
    "\n",
    "a = 5 + 5j\n",
    "b = 6 + 7j\n",
    "\n",
    "c = a%b\n",
    "print(c)\n",
    "\n"
   ]
  },
  {
   "cell_type": "markdown",
   "metadata": {},
   "source": [
    "Question 2 :\n",
    "Research on range() functions and its parameters. Create a markdown cell and write in your own\n",
    "words (no copy-paste from google please) what you understand about it. Implement a small\n",
    "program of your choice on the same.\n"
   ]
  },
  {
   "cell_type": "code",
   "execution_count": 4,
   "metadata": {},
   "outputs": [
    {
     "name": "stdout",
     "output_type": "stream",
     "text": [
      "0\n",
      "1\n",
      "2\n",
      "3\n",
      "4\n",
      "5\n"
     ]
    }
   ],
   "source": [
    "# range() function example\n",
    "\n",
    "a = range(6)\n",
    "for i in a:\n",
    "    print(i)\n"
   ]
  },
  {
   "cell_type": "markdown",
   "metadata": {},
   "source": [
    "Here in the above function we can observe that the range function will print the numbers from 0 to n-1 i.e in this case is from 0 to 6-1 i.e. 5.\n",
    "Also using the for loop the elements from the range function one by one & will print.\n"
   ]
  },
  {
   "cell_type": "markdown",
   "metadata": {},
   "source": [
    "Question 3:\n",
    " Consider two numbers. Perform their subtraction and if the result of subtraction is greater than\n",
    "25, print their multiplication result else print their division result.\n"
   ]
  },
  {
   "cell_type": "code",
   "execution_count": 6,
   "metadata": {},
   "outputs": [
    {
     "name": "stdout",
     "output_type": "stream",
     "text": [
      "Enter the first no: 10\n",
      "Enter the second no: 20\n",
      "Division of 10 / 20 is :  0.5\n"
     ]
    }
   ],
   "source": [
    " first_no = int(input(\"Enter the first no: \"))\n",
    "second_no = int(input(\"Enter the second no: \"))\n",
    "\n",
    "result = first_no - second_no\n",
    "\n",
    "if result > 25:\n",
    "    print(\"Multiplication of\",first_no,\"*\",second_no,\"is : \",first_no*second_no)\n",
    "else:\n",
    "    print(\"Division of\",first_no,\"/\",second_no,\"is : \",first_no/second_no)"
   ]
  },
  {
   "cell_type": "code",
   "execution_count": 8,
   "metadata": {},
   "outputs": [
    {
     "name": "stdout",
     "output_type": "stream",
     "text": [
      "Enter the first no: 50\n",
      "Enter the second no: 2\n",
      "Multiplication of 50 * 2 is :  100\n"
     ]
    }
   ],
   "source": [
    " first_no = int(input(\"Enter the first no: \"))\n",
    "second_no = int(input(\"Enter the second no: \"))\n",
    "\n",
    "result = first_no - second_no\n",
    "\n",
    "if result > 25:\n",
    "    print(\"Multiplication of\",first_no,\"*\",second_no,\"is : \",first_no*second_no)\n",
    "else:\n",
    "    print(\"Division of\",first_no,\"/\",second_no,\"is : \",first_no/second_no)"
   ]
  },
  {
   "cell_type": "markdown",
   "metadata": {},
   "source": [
    "Question 4:\n",
    "Consider a list of 10 elements of integer values. If the number in the list is divisible by 2, print the\n",
    "result as \"square of that number minus 2\".\n"
   ]
  },
  {
   "cell_type": "code",
   "execution_count": 9,
   "metadata": {},
   "outputs": [
    {
     "name": "stdout",
     "output_type": "stream",
     "text": [
      "Square of 2 minus 2: 2\n",
      "Square of 4 minus 2: 14\n",
      "Square of 6 minus 2: 34\n",
      "Square of 8 minus 2: 62\n",
      "Square of 10 minus 2: 98\n"
     ]
    }
   ],
   "source": [
    " a  = [1,2,3,4,5,6,7,8,9,10]\n",
    "\n",
    "for n in a:\n",
    "    if(n%2==0):\n",
    "        print(\"Square of {} minus 2: \".format(n) + str(n**2 -2))"
   ]
  },
  {
   "cell_type": "markdown",
   "metadata": {},
   "source": [
    "Question 5:\n",
    "Consider a list of 10 elements. Print all the elements in the list which are greater than 7 when that\n",
    "number is divided 2."
   ]
  },
  {
   "cell_type": "code",
   "execution_count": 10,
   "metadata": {},
   "outputs": [
    {
     "name": "stdout",
     "output_type": "stream",
     "text": [
      "Division of 16 when 2 is greater than 7\n",
      "Division of 20 when 2 is greater than 7\n",
      "Division of 28 when 2 is greater than 7\n",
      "Division of 30 when 2 is greater than 7\n",
      "Division of 38 when 2 is greater than 7\n",
      "Division of 50 when 2 is greater than 7\n"
     ]
    }
   ],
   "source": [
    "a = [2,6,10,12,16,20,28,30,38,50]\n",
    "\n",
    "for n in a:\n",
    "    if(n/2)>7:\n",
    "        print(\"Division of\",n,\"when 2 is greater than 7\")"
   ]
  }
 ],
 "metadata": {
  "kernelspec": {
   "display_name": "Python 3",
   "language": "python",
   "name": "python3"
  },
  "language_info": {
   "codemirror_mode": {
    "name": "ipython",
    "version": 3
   },
   "file_extension": ".py",
   "mimetype": "text/x-python",
   "name": "python",
   "nbconvert_exporter": "python",
   "pygments_lexer": "ipython3",
   "version": "3.7.6"
  }
 },
 "nbformat": 4,
 "nbformat_minor": 4
}
