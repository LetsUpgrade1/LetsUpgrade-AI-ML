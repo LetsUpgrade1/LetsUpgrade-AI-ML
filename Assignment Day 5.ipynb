{
 "cells": [
  {
   "cell_type": "markdown",
   "metadata": {},
   "source": [
    "Question 1 :\n",
    "Write a Python program to find the first 20 non-even prime natural numbers.\n"
   ]
  },
  {
   "cell_type": "code",
   "execution_count": 41,
   "metadata": {},
   "outputs": [
    {
     "name": "stdout",
     "output_type": "stream",
     "text": [
      "3\n",
      "5\n",
      "7\n",
      "11\n",
      "13\n",
      "17\n",
      "19\n",
      "23\n",
      "29\n",
      "31\n",
      "37\n",
      "41\n",
      "43\n",
      "47\n",
      "53\n",
      "59\n",
      "61\n",
      "67\n",
      "71\n",
      "73\n",
      "79\n"
     ]
    }
   ],
   "source": [
    "def prime(): \n",
    "    start = 1\n",
    "    end = 100\n",
    "    cnt=0\n",
    "    for val in range(start, end + 1):\n",
    "        if(cnt>20):\n",
    "            break\n",
    "        if val > 1: \n",
    "            for n in range(2, val//2 + 2): \n",
    "                if (val % n) == 0: \n",
    "                    break\n",
    "            else: \n",
    "                if n == val//2 + 1: \n",
    "                    if(val%2==0):\n",
    "                        break\n",
    "                    else:\n",
    "                        cnt=cnt+1\n",
    "                        print(val)                     \n",
    "prime()"
   ]
  },
  {
   "cell_type": "markdown",
   "metadata": {},
   "source": [
    "Question 2 :\n",
    "Write a Python program to implement 15 functions of string.\n"
   ]
  },
  {
   "cell_type": "code",
   "execution_count": 27,
   "metadata": {},
   "outputs": [
    {
     "name": "stdout",
     "output_type": "stream",
     "text": [
      "Thiruvanathapuram\n",
      "False\n",
      "-1\n",
      "True\n",
      "True\n",
      "True\n",
      "3\n",
      "False\n",
      "False\n",
      "True\n",
      "False\n",
      "False\n",
      "False\n",
      "False\n",
      "thirlvanathaplram\n"
     ]
    }
   ],
   "source": [
    "s=\"thiruvanathapuram\"\n",
    "\n",
    "print(s.capitalize())\n",
    "print(s.endswith('i'))\n",
    "print(s.find('s'))\n",
    "print(s.isalpha())\n",
    "print(s.isalnum())\n",
    "print(s.isascii())\n",
    "print(s.index('r'))\n",
    "print(s.isdecimal())\n",
    "print(s.isdigit())\n",
    "print(s.islower())\n",
    "print(s.isupper())\n",
    "print(s.startswith('p'))\n",
    "print(s.isnumeric())\n",
    "print(s.istitle())\n",
    "print(s.replace('u','l'))"
   ]
  },
  {
   "cell_type": "markdown",
   "metadata": {},
   "source": [
    "Question 3:\n",
    "Write a Python program to check if the given string is a Palindrome or Anagram or None of them.\n",
    "Display the message accordingly to the user.\n"
   ]
  },
  {
   "cell_type": "code",
   "execution_count": 4,
   "metadata": {},
   "outputs": [
    {
     "name": "stdout",
     "output_type": "stream",
     "text": [
      "Enter the string: Rachana\n",
      "The string isn't a palindrome\n",
      "The string is Anagram\n"
     ]
    }
   ],
   "source": [
    "def MyPalin(st):\n",
    "    st1=st[::-1]\n",
    "    \n",
    "    if(st==st1):\n",
    "       print(\"The string is a palindrome\")\n",
    "    else:\n",
    "       print(\"The string isn't a palindrome\")\n",
    "    \n",
    "    st = list(st)\n",
    "    st.sort()\n",
    "    st1 = list(st1)\n",
    "    st1.sort()\n",
    "\n",
    "    if (st == st1):\n",
    "        print(\"The string is Anagram\")\n",
    "    else:\n",
    "        print(\"The string is not an Anagram\")\n",
    "\n",
    "m=input(\"Enter the string: \")\n",
    "MyPalin(m)"
   ]
  },
  {
   "cell_type": "code",
   "execution_count": 6,
   "metadata": {},
   "outputs": [
    {
     "name": "stdout",
     "output_type": "stream",
     "text": [
      "Enter the string: madam\n",
      "The string is a palindrome\n",
      "The string is Anagram\n"
     ]
    }
   ],
   "source": [
    "def MyPalin(st):\n",
    "    st1=st[::-1]\n",
    "    \n",
    "    if(st==st1):\n",
    "       print(\"The string is a palindrome\")\n",
    "    else:\n",
    "       print(\"The string isn't a palindrome\")\n",
    "    \n",
    "    st = list(st)\n",
    "    st.sort()\n",
    "    st1 = list(st1)\n",
    "    st1.sort()\n",
    "\n",
    "    if (st == st1):\n",
    "        print(\"The string is Anagram\")\n",
    "    else:\n",
    "        print(\"The string is not an Anagram\")\n",
    "\n",
    "m=input(\"Enter the string: \")\n",
    "MyPalin(m)"
   ]
  },
  {
   "cell_type": "markdown",
   "metadata": {},
   "source": [
    "Question 4:\n",
    "Write a Python's user defined function that removes all the additional characters from the string\n",
    "and converts it finally to lower case using built-in lower(). eg: If the string is \"Dr. Darshan Ingle\n",
    "@AI-ML Trainer\", then the output be \"drdarshaningleaimltrainer\"."
   ]
  },
  {
   "cell_type": "code",
   "execution_count": 4,
   "metadata": {},
   "outputs": [
    {
     "name": "stdout",
     "output_type": "stream",
     "text": [
      "Enter the string:Dr. Darshan Ingle @AI-ML Trainer\n",
      "drdarshaningleaimltrainer\n"
     ]
    }
   ],
   "source": [
    "def MyDecoder(string):\n",
    "    alpha = \"abcdefghijklmnopqrstuvwxyz\"\n",
    "    string = string.lower().replace(\" \",\" \")\n",
    "    new_str=\"\"\n",
    "    for i in string:\n",
    "        if i in alpha:\n",
    "            new_str = new_str + i\n",
    "    print(new_str)\n",
    "    \n",
    "\n",
    "o=input(\"Enter the string:\")\n",
    "MyDecoder(o)"
   ]
  }
 ],
 "metadata": {
  "kernelspec": {
   "display_name": "Python 3",
   "language": "python",
   "name": "python3"
  },
  "language_info": {
   "codemirror_mode": {
    "name": "ipython",
    "version": 3
   },
   "file_extension": ".py",
   "mimetype": "text/x-python",
   "name": "python",
   "nbconvert_exporter": "python",
   "pygments_lexer": "ipython3",
   "version": "3.7.6"
  }
 },
 "nbformat": 4,
 "nbformat_minor": 4
}
