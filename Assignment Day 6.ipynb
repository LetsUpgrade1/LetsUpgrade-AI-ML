{
 "cells": [
  {
   "cell_type": "raw",
   "metadata": {},
   "source": [
    "Question 1:\n",
    "Assuming that we have some email addresses in the \"username@companyname.com\" format, please write program\n",
    "to print the company name of a given email address. Both user names and company names are composed of letters\n",
    "only.\n",
    "Input Format:\n",
    "The first line of the input contains an email address.\n",
    "Output Format:\n",
    "Print the company name in single line.\n",
    "Example;\n",
    "Input:\n",
    "john@google.com\n",
    "Output:\n",
    "google\n"
   ]
  },
  {
   "cell_type": "code",
   "execution_count": 36,
   "metadata": {},
   "outputs": [
    {
     "name": "stdout",
     "output_type": "stream",
     "text": [
      "Enter email id: john@google.com\n",
      "google\n"
     ]
    }
   ],
   "source": [
    "a=input(\"Enter email id: \")\n",
    "x=a.index(\"@\")\n",
    "print(a[x+1:len(a)-4])"
   ]
  },
  {
   "cell_type": "raw",
   "metadata": {},
   "source": [
    "Question 2:\n",
    "Write a program that accepts a comma-separated sequence of words as input and prints the words in a comma\n",
    "separated sequence after sorting them alphabetically.\n",
    "Input Format:\n",
    "The first line of input contains words separated by the comma.\n",
    "Output Format:\n",
    "Print the sorted words separated by the comma.\n",
    "Example:\n",
    "Input:\n",
    "without,hello,bag,world\n",
    "Output:\n",
    "bag,hello,without,world"
   ]
  },
  {
   "cell_type": "code",
   "execution_count": 57,
   "metadata": {},
   "outputs": [
    {
     "name": "stdout",
     "output_type": "stream",
     "text": [
      "Input comma separated sequence of words: without,hello,bag,world\n",
      "bag,hello,without,world\n"
     ]
    }
   ],
   "source": [
    "items = input(\"Input comma separated sequence of words: \")\n",
    "words = [word for word in items.split(\",\")]\n",
    "print(\",\".join(sorted(list(set(words)))))"
   ]
  },
  {
   "cell_type": "raw",
   "metadata": {},
   "source": [
    "Question 3:\n",
    "Create your own Jupyter Notebook for Sets.\n",
    "Reference link: https://www.w3schools.com/python/python_sets.asp\n"
   ]
  },
  {
   "cell_type": "markdown",
   "metadata": {},
   "source": [
    "A set is a collection which is unordered and unindexed. In Python sets are written with curly brackets.\n",
    "\n",
    "eg:\n",
    "    \n",
    "r = {\"apple\", \"banana\", \"cherry\"}\n",
    "print(r)\n",
    "\n",
    "\n",
    "As the set is an unordered collection we cannot access the set using the index number hence we have to use a for loop for accessing the set.\n",
    "\n",
    "Parsing a set\n",
    "\n",
    "r = {\"apple\", \"banana\", \"cherry\"}\n",
    "for x in r:\n",
    "  print(x)\n",
    "  \n",
    "\n",
    "\n",
    "Below is an eg to check if a particular element is present the set or not\n",
    "\n",
    "r = {\"apple\", \"banana\", \"cherry\"}\n",
    "print(\"banana\" in r)\n",
    "\n",
    "\n",
    "\n",
    "Below is an eg to add an element in the set\n",
    "\n",
    "r = {\"apple\", \"banana\", \"cherry\"}\n",
    "r.add(\"orange\")\n",
    "print(r)\n",
    "\n",
    "\n",
    "\n",
    "Below is an eg to update a set \n",
    "\n",
    "r = {\"apple\", \"banana\", \"cherry\"}\n",
    "r.update([\"orange\", \"mango\", \"grapes\"])\n",
    "print(r)\n",
    "\n",
    "\n",
    "Below is an eg to check the length of the set\n",
    "\n",
    "r = {\"apple\", \"banana\", \"cherry\"}\n",
    "print(len(r))\n",
    "\n",
    "\n",
    "Below is an eg for removing an element from the set using remove()\n",
    "\n",
    "r = {\"apple\", \"banana\", \"cherry\"}\n",
    "r.remove(\"banana\")\n",
    "print(r)\n",
    "\n",
    "Note: If the item to remove does not exist, remove() will raise an error.\n",
    "\n",
    "\n",
    "Below is an eg for removing an element from the set using discard()\n",
    "\n",
    "r = {\"apple\", \"banana\", \"cherry\"}\n",
    "r.discard(\"banana\")\n",
    "print(r)\n",
    "\n",
    "Note: If the item to remove does not exist, discard() will NOT raise an error.\n",
    "\n",
    "\n",
    "Below is an eg for poping up or elemintaing the last elelment from the set\n",
    "\n",
    "r = {\"apple\", \"banana\", \"cherry\"}\n",
    "x = r.pop()\n",
    "print(x)\n",
    "print(r)\n",
    "\n",
    "\n",
    "Below is an eg for clearing all the elements from the set\n",
    "\n",
    "r = {\"apple\", \"banana\", \"cherry\"}\n",
    "r.clear()\n",
    "print(r)\n",
    "\n",
    "Here the clear() will clear all the elements in the set but the set resists\n",
    "\n",
    "Below is an eg for deleting set & its elements completely giving an error once deleted that the set doent exists.\n",
    "\n",
    "r = {\"apple\", \"banana\", \"cherry\"}\n",
    "del r\n",
    "print(r)\n",
    "\n",
    "Below is an eg for joining or concatenating 2 sets\n",
    "\n",
    "set1 = {\"a\", \"b\" , \"c\"}\n",
    "set2 = {1, 2, 3}\n",
    "set3 = set1.union(set2)\n",
    "print(set3)\n",
    "\n",
    "\n",
    "Below is an eg for adding/updating all the elements of 2nd set to 1st set\n",
    "\n",
    "set1 = {\"a\", \"b\" , \"c\"}\n",
    "set2 = {1, 2, 3}\n",
    "set1.update(set2)\n",
    "print(set1)\n"
   ]
  },
  {
   "cell_type": "raw",
   "metadata": {},
   "source": [
    "Question 4:\n",
    "Given a list of n-1 numbers ranging from 1 to n, your task is to find the missing number. There are no duplicates.\n",
    "Input Format:\n",
    "The first line contains n-1 numbers with each number separated by a space.\n",
    "Output Format:\n",
    "Print the missing number\n",
    "Example:\n",
    "Input:1 2 4 6 3 7 8\n",
    "Output:5\n",
    "Explanation:\n",
    "In the above list of numbers 5 is missing and hence 5 is the input"
   ]
  },
  {
   "cell_type": "code",
   "execution_count": 69,
   "metadata": {},
   "outputs": [
    {
     "name": "stdout",
     "output_type": "stream",
     "text": [
      "5\n",
      "13\n"
     ]
    }
   ],
   "source": [
    "def missing_number(num_list):\n",
    "    return sum(range(num_list[0],num_list[-1]+1)) - sum(num_list)\n",
    "\n",
    "print(missing_number([1,2,3,4,6,7,8]))\n",
    "\n",
    "print(missing_number([10,11,12,14,15,16,17]))\n"
   ]
  },
  {
   "cell_type": "raw",
   "metadata": {},
   "source": [
    "Question 5:\n",
    "With a given list L, write a program to print this list L after removing all duplicate values with original order reserved.\n",
    "Example:\n",
    "If the input list is\n",
    "12 24 35 24 88 120 155 88 120 155\n",
    "Then the output should be\n",
    "12 24 35 88 120 155\n",
    "Explanation:\n",
    "Third, seventh and ninth element of the list L has been removed because it was already present.\n",
    "Input Format:\n",
    "In one line take the elements of the list L with each element separated by a space.\n",
    "Output Format:\n",
    "Print the elements of the modified list in one line with each element separated by a space.\n",
    "Example:\n",
    "Input: 12 24 35 24\n",
    "Output:\n",
    "12 24 35\n"
   ]
  },
  {
   "cell_type": "code",
   "execution_count": 35,
   "metadata": {},
   "outputs": [
    {
     "name": "stdout",
     "output_type": "stream",
     "text": [
      "Enter the list separated by spaces in between: 12 24 35 24 88 120 155 88 120 155\n",
      "the unique values from list are:\n",
      "12\n",
      "24\n",
      "35\n",
      "88\n",
      "120\n",
      "155\n"
     ]
    }
   ],
   "source": [
    "\n",
    "def unique(list1): \n",
    "    \n",
    "    l=list1.split(\" \")\n",
    "    \n",
    "    unique_list = [] \n",
    "    for x in l: \n",
    "        if x not in unique_list: \n",
    "            unique_list.append(x)  \n",
    "    for x in unique_list: \n",
    "        print (str(x))\n",
    "      \n",
    "list1=input(\"Enter the list separated by spaces in between: \")\n",
    "print(\"the unique values from list are:\") \n",
    "unique(list1)\n"
   ]
  }
 ],
 "metadata": {
  "kernelspec": {
   "display_name": "Python 3",
   "language": "python",
   "name": "python3"
  },
  "language_info": {
   "codemirror_mode": {
    "name": "ipython",
    "version": 3
   },
   "file_extension": ".py",
   "mimetype": "text/x-python",
   "name": "python",
   "nbconvert_exporter": "python",
   "pygments_lexer": "ipython3",
   "version": "3.7.6"
  }
 },
 "nbformat": 4,
 "nbformat_minor": 4
}
