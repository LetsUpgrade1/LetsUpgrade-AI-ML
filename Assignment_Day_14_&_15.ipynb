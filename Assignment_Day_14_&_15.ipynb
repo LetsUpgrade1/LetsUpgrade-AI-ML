{
  "nbformat": 4,
  "nbformat_minor": 0,
  "metadata": {
    "kernelspec": {
      "display_name": "Python 3",
      "language": "python",
      "name": "python3"
    },
    "language_info": {
      "codemirror_mode": {
        "name": "ipython",
        "version": 3
      },
      "file_extension": ".py",
      "mimetype": "text/x-python",
      "name": "python",
      "nbconvert_exporter": "python",
      "pygments_lexer": "ipython3",
      "version": "3.7.4"
    },
    "colab": {
      "name": "Assignment Day 14 & 15",
      "provenance": [],
      "collapsed_sections": []
    }
  },
  "cells": [
    {
      "cell_type": "markdown",
      "metadata": {
        "id": "q8AEl1hJlZBb",
        "colab_type": "text"
      },
      "source": [
        "# 1. Create a 3x3x3 array with random values "
      ]
    },
    {
      "cell_type": "code",
      "metadata": {
        "id": "Bkzg5A_KlZBe",
        "colab_type": "code",
        "colab": {
          "base_uri": "https://localhost:8080/",
          "height": 204
        },
        "outputId": "19249870-f48f-4041-be84-b706f97f9d88"
      },
      "source": [
        "import numpy as np\n",
        "x = np.random.random((3,3,3))\n",
        "print(x)"
      ],
      "execution_count": 1,
      "outputs": [
        {
          "output_type": "stream",
          "text": [
            "[[[0.46440757 0.10689484 0.0876995 ]\n",
            "  [0.15839606 0.56351954 0.45315917]\n",
            "  [0.11805476 0.94651805 0.02556332]]\n",
            "\n",
            " [[0.02390126 0.86705914 0.95531959]\n",
            "  [0.40560081 0.34007641 0.5926376 ]\n",
            "  [0.93901051 0.08310202 0.52849436]]\n",
            "\n",
            " [[0.62142745 0.77129407 0.76529674]\n",
            "  [0.50416016 0.40204946 0.72962365]\n",
            "  [0.34533072 0.47001508 0.40685865]]]\n"
          ],
          "name": "stdout"
        }
      ]
    },
    {
      "cell_type": "markdown",
      "metadata": {
        "id": "AYI52w4UlZBn",
        "colab_type": "text"
      },
      "source": [
        "# 2.Create a 5x5 matrix with values 1,2,3,4 just below the diagonal"
      ]
    },
    {
      "cell_type": "code",
      "metadata": {
        "id": "IbRtx8GulZBo",
        "colab_type": "code",
        "colab": {
          "base_uri": "https://localhost:8080/",
          "height": 102
        },
        "outputId": "e1a86eae-91d4-4e91-cd7b-edda558e7800"
      },
      "source": [
        "import numpy as np\n",
        "x = np.diag([1, 2, 3, 4, 5])\n",
        "print(x)"
      ],
      "execution_count": 2,
      "outputs": [
        {
          "output_type": "stream",
          "text": [
            "[[1 0 0 0 0]\n",
            " [0 2 0 0 0]\n",
            " [0 0 3 0 0]\n",
            " [0 0 0 4 0]\n",
            " [0 0 0 0 5]]\n"
          ],
          "name": "stdout"
        }
      ]
    },
    {
      "cell_type": "markdown",
      "metadata": {
        "id": "T_qpAqS7lZB0",
        "colab_type": "text"
      },
      "source": [
        "# 3.Create a 8x8 matrix and fill it with a checkerboard pattern"
      ]
    },
    {
      "cell_type": "code",
      "metadata": {
        "id": "UQ3bBHRYlZB2",
        "colab_type": "code",
        "colab": {
          "base_uri": "https://localhost:8080/",
          "height": 170
        },
        "outputId": "6c55c370-01cc-4c0c-f9e2-51f6f60b7665"
      },
      "source": [
        "import numpy as np\n",
        "x = np.ones((3,3))\n",
        "print(\"Checkerboard pattern:\")\n",
        "x = np.zeros((8,8),dtype=int)\n",
        "x[1::2,::2] = 1\n",
        "x[::2,1::2] = 1\n",
        "print(x)\n",
        "\n",
        "\n"
      ],
      "execution_count": 3,
      "outputs": [
        {
          "output_type": "stream",
          "text": [
            "Checkerboard pattern:\n",
            "[[0 1 0 1 0 1 0 1]\n",
            " [1 0 1 0 1 0 1 0]\n",
            " [0 1 0 1 0 1 0 1]\n",
            " [1 0 1 0 1 0 1 0]\n",
            " [0 1 0 1 0 1 0 1]\n",
            " [1 0 1 0 1 0 1 0]\n",
            " [0 1 0 1 0 1 0 1]\n",
            " [1 0 1 0 1 0 1 0]]\n"
          ],
          "name": "stdout"
        }
      ]
    },
    {
      "cell_type": "markdown",
      "metadata": {
        "id": "g1wjAQ4UlZCC",
        "colab_type": "text"
      },
      "source": [
        "# 4. Normalize a 5x5 random matrix"
      ]
    },
    {
      "cell_type": "code",
      "metadata": {
        "id": "-Qrg_C2llZCE",
        "colab_type": "code",
        "colab": {
          "base_uri": "https://localhost:8080/",
          "height": 221
        },
        "outputId": "412e0668-7657-4a0d-8b81-1e52346c0d8a"
      },
      "source": [
        "import numpy as np\n",
        "x= np.random.random((5,5))\n",
        "print(\"Original Array:\")\n",
        "print(x)\n",
        "xmax, xmin = x.max(), x.min()\n",
        "x = (x - xmin)/(xmax - xmin)\n",
        "print(\"After normalization:\")\n",
        "print(x)\n"
      ],
      "execution_count": 4,
      "outputs": [
        {
          "output_type": "stream",
          "text": [
            "Original Array:\n",
            "[[0.29317724 0.15660357 0.39157017 0.16118974 0.70941013]\n",
            " [0.61910144 0.05633425 0.09985301 0.64554805 0.14311884]\n",
            " [0.3287275  0.59725081 0.9129135  0.55958138 0.85721105]\n",
            " [0.39982253 0.92661249 0.64657904 0.93453579 0.87722381]\n",
            " [0.35922308 0.91708329 0.34666338 0.59758061 0.59085303]]\n",
            "After normalization:\n",
            "[[0.26969094 0.11417575 0.38173006 0.11939798 0.74365149]\n",
            " [0.64081782 0.         0.04955441 0.67093233 0.09882082]\n",
            " [0.31017168 0.6159367  0.9753789  0.57304287 0.91195104]\n",
            " [0.39112694 0.99097782 0.6721063  1.         0.93473938]\n",
            " [0.34489672 0.980127   0.33059511 0.61631224 0.60865162]]\n"
          ],
          "name": "stdout"
        }
      ]
    },
    {
      "cell_type": "markdown",
      "metadata": {
        "id": "_4MNM4EHlZCM",
        "colab_type": "text"
      },
      "source": [
        "# 5.  How to find common values between two arrays?"
      ]
    },
    {
      "cell_type": "code",
      "metadata": {
        "id": "km2hAfhRlZCP",
        "colab_type": "code",
        "colab": {
          "base_uri": "https://localhost:8080/",
          "height": 85
        },
        "outputId": "8f3dd2e1-79bc-403e-95f0-15d2903f37f7"
      },
      "source": [
        "import numpy as np\n",
        "array1 = np.array([0, 10, 20, 40, 60])\n",
        "print(\"Array1: \",array1)\n",
        "array2 = [10, 30, 40]\n",
        "print(\"Array2: \",array2)\n",
        "print(\"Common values between two arrays:\")\n",
        "print(np.intersect1d(array1, array2))"
      ],
      "execution_count": 5,
      "outputs": [
        {
          "output_type": "stream",
          "text": [
            "Array1:  [ 0 10 20 40 60]\n",
            "Array2:  [10, 30, 40]\n",
            "Common values between two arrays:\n",
            "[10 40]\n"
          ],
          "name": "stdout"
        }
      ]
    },
    {
      "cell_type": "markdown",
      "metadata": {
        "id": "8OAQenh9lZCb",
        "colab_type": "text"
      },
      "source": [
        "# 6.How to get the dates of yesterday, today and tomorrow?"
      ]
    },
    {
      "cell_type": "code",
      "metadata": {
        "id": "O8j7vT4ZlZCc",
        "colab_type": "code",
        "colab": {
          "base_uri": "https://localhost:8080/",
          "height": 68
        },
        "outputId": "04c7d73a-f31d-4c0f-be0d-0ee56939c5a4"
      },
      "source": [
        "import numpy as np\n",
        "yesterday = np.datetime64('today', 'D') - np.timedelta64(1, 'D')\n",
        "print(\"Yestraday: \",yesterday)\n",
        "today     = np.datetime64('today', 'D')\n",
        "print(\"Today: \",today)\n",
        "tomorrow  = np.datetime64('today', 'D') + np.timedelta64(1, 'D')\n",
        "print(\"Tomorrow: \",tomorrow)"
      ],
      "execution_count": 6,
      "outputs": [
        {
          "output_type": "stream",
          "text": [
            "Yestraday:  2020-07-25\n",
            "Today:  2020-07-26\n",
            "Tomorrow:  2020-07-27\n"
          ],
          "name": "stdout"
        }
      ]
    },
    {
      "cell_type": "markdown",
      "metadata": {
        "id": "s3dkus5elZCo",
        "colab_type": "text"
      },
      "source": [
        "# 7. Consider two random array A and B, check if they are equal"
      ]
    },
    {
      "cell_type": "code",
      "metadata": {
        "id": "5sq9C8KMlZCr",
        "colab_type": "code",
        "colab": {
          "base_uri": "https://localhost:8080/",
          "height": 119
        },
        "outputId": "c02c2f5c-0c0c-49cb-fd36-0a84cc615577"
      },
      "source": [
        "import numpy as np\n",
        "x = np.random.randint(0,2,6)\n",
        "print(\"First array:\")\n",
        "print(x)\n",
        "y = np.random.randint(0,2,6)\n",
        "print(\"Second array:\")\n",
        "print(y)\n",
        "print(\"Test above two arrays are equal or not!\")\n",
        "array_equal = np.allclose(x, y)\n",
        "print(array_equal)"
      ],
      "execution_count": 7,
      "outputs": [
        {
          "output_type": "stream",
          "text": [
            "First array:\n",
            "[1 1 1 1 0 0]\n",
            "Second array:\n",
            "[0 0 1 1 0 0]\n",
            "Test above two arrays are equal or not!\n",
            "False\n"
          ],
          "name": "stdout"
        }
      ]
    },
    {
      "cell_type": "markdown",
      "metadata": {
        "id": "g7vYxX7YlZC2",
        "colab_type": "text"
      },
      "source": [
        "# 8.Create random vector of size 10 and replace the maximum value by 0 "
      ]
    },
    {
      "cell_type": "code",
      "metadata": {
        "id": "D1H1PvfclZC4",
        "colab_type": "code",
        "colab": {
          "base_uri": "https://localhost:8080/",
          "height": 119
        },
        "outputId": "b26a019d-2bef-4b73-884b-0d30886925d6"
      },
      "source": [
        "import numpy as np\n",
        "x = np.random.random(10)\n",
        "print(\"Original array:\")\n",
        "print(x)\n",
        "x[x.argmax()] = 0\n",
        "print(\"Maximum value replaced by 0:\")\n",
        "print(x)"
      ],
      "execution_count": 9,
      "outputs": [
        {
          "output_type": "stream",
          "text": [
            "Original array:\n",
            "[0.24251528 0.27378118 0.83472536 0.84111453 0.04248385 0.75224684\n",
            " 0.18147776 0.26887751 0.30979267 0.11316549]\n",
            "Maximum value replaced by 0:\n",
            "[0.24251528 0.27378118 0.83472536 0.         0.04248385 0.75224684\n",
            " 0.18147776 0.26887751 0.30979267 0.11316549]\n"
          ],
          "name": "stdout"
        }
      ]
    },
    {
      "cell_type": "markdown",
      "metadata": {
        "id": "qnsFiDbwlZC_",
        "colab_type": "text"
      },
      "source": [
        "# 9. How to print all the values of an array?"
      ]
    },
    {
      "cell_type": "markdown",
      "metadata": {
        "id": "bzw1ejfLpRqu",
        "colab_type": "text"
      },
      "source": [
        "There are 3 ways of how the printing of arrays can be done:\n",
        "\n",
        "1.Using for loop :\n",
        "2.Convert a list to a string for display :\n",
        "3.Using map :"
      ]
    },
    {
      "cell_type": "code",
      "metadata": {
        "id": "09Y21BOTpwER",
        "colab_type": "code",
        "colab": {
          "base_uri": "https://localhost:8080/",
          "height": 102
        },
        "outputId": "7db34130-cfe2-4914-9719-cc7834f9c2bb"
      },
      "source": [
        "#1.Using for loop:\n",
        "\n",
        "a = [1, 2, 3, 4, 5] \n",
        "\n",
        "for x in range(len(a)): \n",
        "    print(a[x])"
      ],
      "execution_count": 13,
      "outputs": [
        {
          "output_type": "stream",
          "text": [
            "1\n",
            "2\n",
            "3\n",
            "4\n",
            "5\n"
          ],
          "name": "stdout"
        }
      ]
    },
    {
      "cell_type": "code",
      "metadata": {
        "id": "yAA4mPhWp7uS",
        "colab_type": "code",
        "colab": {
          "base_uri": "https://localhost:8080/",
          "height": 51
        },
        "outputId": "a8278f41-2aeb-4f00-d569-526ae3efbb1e"
      },
      "source": [
        "#2.Convert a list to a string for display :\n",
        "\n",
        "a =[\"Geeks\", \"for\", \"Geeks\"] \n",
        "\n",
        "print(' '.join(a)) \n",
        "\n",
        "a = [1, 2, 3, 4, 5] \n",
        "  \n",
        "print(str(a)[1:-1])\n",
        "\n"
      ],
      "execution_count": 15,
      "outputs": [
        {
          "output_type": "stream",
          "text": [
            "Geeks for Geeks\n",
            "1, 2, 3, 4, 5\n"
          ],
          "name": "stdout"
        }
      ]
    },
    {
      "cell_type": "code",
      "metadata": {
        "id": "1Ux_GDRcqVvJ",
        "colab_type": "code",
        "colab": {
          "base_uri": "https://localhost:8080/",
          "height": 136
        },
        "outputId": "05d162c0-fbb8-45a7-ceb3-dc559dbc7e3e"
      },
      "source": [
        "#Using map:\n",
        "\n",
        "a = [1, 2, 3, 4, 5] \n",
        "print(' '.join(map(str, a)))  \n",
        "  \n",
        "print(\"in new line\")\n",
        "print('\\n'.join(map(str, a))) "
      ],
      "execution_count": 17,
      "outputs": [
        {
          "output_type": "stream",
          "text": [
            "1 2 3 4 5\n",
            "in new line\n",
            "1\n",
            "2\n",
            "3\n",
            "4\n",
            "5\n"
          ],
          "name": "stdout"
        }
      ]
    },
    {
      "cell_type": "markdown",
      "metadata": {
        "id": "_PfdZjiflZDK",
        "colab_type": "text"
      },
      "source": [
        "# 10.Subtract the mean of each row of a matrix"
      ]
    },
    {
      "cell_type": "code",
      "metadata": {
        "id": "LQKhurB1lZDM",
        "colab_type": "code",
        "colab": {
          "base_uri": "https://localhost:8080/",
          "height": 527
        },
        "outputId": "73a5b3bd-edf9-49bd-ca60-9f766b07806e"
      },
      "source": [
        "import numpy as np\n",
        "print(\"Original matrix:\\n\")\n",
        "X = np.random.rand(5, 10)\n",
        "print(X)\n",
        "print(\"\\nSubtract the mean of each row of the said matrix:\\n\")\n",
        "Y = X - X.mean(axis=1, keepdims=True)\n",
        "print(Y)"
      ],
      "execution_count": 18,
      "outputs": [
        {
          "output_type": "stream",
          "text": [
            "Original matrix:\n",
            "\n",
            "[[0.69161795 0.46150463 0.83665197 0.43455681 0.64799999 0.74317031\n",
            "  0.86261727 0.49172637 0.5944441  0.60814499]\n",
            " [0.6583999  0.81251263 0.83000769 0.15494899 0.27247479 0.26022337\n",
            "  0.12103123 0.35031208 0.77257361 0.76042537]\n",
            " [0.5121304  0.41381754 0.32049788 0.25338887 0.98323719 0.27412414\n",
            "  0.06157086 0.59191664 0.73429419 0.97893474]\n",
            " [0.62214355 0.8951362  0.78308691 0.59924413 0.59317881 0.90302173\n",
            "  0.8270325  0.22174948 0.62311869 0.17667656]\n",
            " [0.42718837 0.65746913 0.37358236 0.45058577 0.73847523 0.47623488\n",
            "  0.24948659 0.28334044 0.86944022 0.3431755 ]]\n",
            "\n",
            "Subtract the mean of each row of the said matrix:\n",
            "\n",
            "[[ 5.43745140e-02 -1.75738808e-01  1.99408531e-01 -2.02686626e-01\n",
            "   1.07565533e-02  1.05926866e-01  2.25373831e-01 -1.45517068e-01\n",
            "  -4.27993438e-02 -2.90984495e-02]\n",
            " [ 1.59108936e-01  3.13221664e-01  3.30716724e-01 -3.44341980e-01\n",
            "  -2.26816173e-01 -2.39067596e-01 -3.78259740e-01 -1.48978885e-01\n",
            "   2.73282648e-01  2.61134401e-01]\n",
            " [-2.60840699e-04 -9.85737081e-02 -1.91893365e-01 -2.59002378e-01\n",
            "   4.70845945e-01 -2.38267105e-01 -4.50820387e-01  7.95254003e-02\n",
            "   2.21902946e-01  4.66543493e-01]\n",
            " [-2.29530450e-03  2.70697341e-01  1.58648050e-01 -2.51947225e-02\n",
            "  -3.12600480e-02  2.78582870e-01  2.02593649e-01 -4.02689377e-01\n",
            "  -1.32016062e-03 -4.47762297e-01]\n",
            " [-5.97094793e-02  1.70571278e-01 -1.13315490e-01 -3.63120754e-02\n",
            "   2.51577385e-01 -1.06629669e-02 -2.37411258e-01 -2.03557411e-01\n",
            "   3.82542372e-01 -1.43722355e-01]]\n"
          ],
          "name": "stdout"
        }
      ]
    },
    {
      "cell_type": "markdown",
      "metadata": {
        "id": "THzfSw9clZDa",
        "colab_type": "text"
      },
      "source": [
        "# 11.Consider a given vector, how to add 1 to each element indexed by a second vector (be careful with repeated indices)? "
      ]
    },
    {
      "cell_type": "code",
      "metadata": {
        "id": "kDeXEahelZDc",
        "colab_type": "code",
        "colab": {}
      },
      "source": [
        ""
      ],
      "execution_count": null,
      "outputs": []
    },
    {
      "cell_type": "code",
      "metadata": {
        "id": "610hX6IblZDj",
        "colab_type": "code",
        "colab": {}
      },
      "source": [
        ""
      ],
      "execution_count": null,
      "outputs": []
    },
    {
      "cell_type": "markdown",
      "metadata": {
        "id": "xsdqZyw1lZDs",
        "colab_type": "text"
      },
      "source": [
        "# 12.How to get the diagonal of a dot product?"
      ]
    },
    {
      "cell_type": "code",
      "metadata": {
        "id": "gzY3pRTylZDt",
        "colab_type": "code",
        "colab": {
          "base_uri": "https://localhost:8080/",
          "height": 34
        },
        "outputId": "fc0ea69d-ffad-4cfc-dd39-53649f0c5e75"
      },
      "source": [
        "A = np.random.uniform(0,1,(5,5))\n",
        "\n",
        "B = np.random.uniform(0,1,(5,5))\n",
        "\n",
        "# Slow version\n",
        "\n",
        "np.diag(np.dot(A, B))\n",
        "\n",
        "# Fast version\n",
        "\n",
        "np.sum(A * B.T, axis=1)\n",
        "\n",
        "# Faster version\n",
        "\n",
        "np.einsum(\"ij,ji->i\", A, B)"
      ],
      "execution_count": 24,
      "outputs": [
        {
          "output_type": "execute_result",
          "data": {
            "text/plain": [
              "array([1.63840441, 1.95351531, 1.29560649, 0.8163258 , 1.46876283])"
            ]
          },
          "metadata": {
            "tags": []
          },
          "execution_count": 24
        }
      ]
    },
    {
      "cell_type": "markdown",
      "metadata": {
        "id": "nEDhpyvPlZD2",
        "colab_type": "text"
      },
      "source": [
        "# 13.How to find the most frequent value in an array?"
      ]
    },
    {
      "cell_type": "code",
      "metadata": {
        "id": "Sdp-5ZF7lZD4",
        "colab_type": "code",
        "colab": {
          "base_uri": "https://localhost:8080/",
          "height": 102
        },
        "outputId": "dd25fef1-a82e-47a2-c881-2e33e5694fd0"
      },
      "source": [
        "import numpy as np\n",
        "x = np.random.randint(0, 10, 40)\n",
        "print(\"Original array:\")\n",
        "print(x)\n",
        "print(\"Most frequent value in the above array:\")\n",
        "print(np.bincount(x).argmax())"
      ],
      "execution_count": 23,
      "outputs": [
        {
          "output_type": "stream",
          "text": [
            "Original array:\n",
            "[3 4 3 0 2 4 3 4 4 4 0 4 5 7 6 7 9 4 9 7 1 0 0 0 4 6 8 4 2 7 4 9 2 0 9 2 4\n",
            " 1 5 6]\n",
            "Most frequent value in the above array:\n",
            "4\n"
          ],
          "name": "stdout"
        }
      ]
    },
    {
      "cell_type": "markdown",
      "metadata": {
        "id": "Kg1M6J_plZEA",
        "colab_type": "text"
      },
      "source": [
        "# 14.How to get the n largest values of an array"
      ]
    },
    {
      "cell_type": "code",
      "metadata": {
        "id": "UJ23yPATlZEC",
        "colab_type": "code",
        "colab": {
          "base_uri": "https://localhost:8080/",
          "height": 68
        },
        "outputId": "6e3e1c22-835a-49ae-87f8-b172bff671cc"
      },
      "source": [
        "import numpy as np\n",
        "x = np.arange(10)\n",
        "print(\"Original array:\")\n",
        "print(x)\n",
        "np.random.shuffle(x)\n",
        "n = 1\n",
        "print (x[np.argsort(x)[-n:]])"
      ],
      "execution_count": 22,
      "outputs": [
        {
          "output_type": "stream",
          "text": [
            "Original array:\n",
            "[0 1 2 3 4 5 6 7 8 9]\n",
            "[9]\n"
          ],
          "name": "stdout"
        }
      ]
    },
    {
      "cell_type": "markdown",
      "metadata": {
        "id": "8ctUIooblZEN",
        "colab_type": "text"
      },
      "source": [
        "# 15.How to create a record array from a regular array?"
      ]
    },
    {
      "cell_type": "code",
      "metadata": {
        "id": "T1pZlqgUlZEO",
        "colab_type": "code",
        "colab": {
          "base_uri": "https://localhost:8080/",
          "height": 68
        },
        "outputId": "5ef8acbc-9d82-4619-9b7c-d8c8ee61fe97"
      },
      "source": [
        "import numpy as np\n",
        "a1=np.array([1,2,3,4])\n",
        "a2=np.array(['Red','Green','White','Orange'])\n",
        "a3=np.array([12.20,15,20,40])\n",
        "result= np.core.records.fromarrays([a1, a2, a3],names='a,b,c')\n",
        "print(result[0])\n",
        "print(result[1])\n",
        "print(result[2])"
      ],
      "execution_count": 20,
      "outputs": [
        {
          "output_type": "stream",
          "text": [
            "(1, 'Red', 12.2)\n",
            "(2, 'Green', 15.)\n",
            "(3, 'White', 20.)\n"
          ],
          "name": "stdout"
        }
      ]
    },
    {
      "cell_type": "code",
      "metadata": {
        "id": "T0C_FmQSlZEc",
        "colab_type": "code",
        "colab": {}
      },
      "source": [
        ""
      ],
      "execution_count": null,
      "outputs": []
    }
  ]
}