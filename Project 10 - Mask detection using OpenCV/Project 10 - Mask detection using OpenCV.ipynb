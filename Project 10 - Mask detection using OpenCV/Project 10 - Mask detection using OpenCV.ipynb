{
 "cells": [
  {
   "cell_type": "markdown",
   "metadata": {
    "id": "k9wkhsXFKiAF"
   },
   "source": [
    "# Mask Detection using OpenCV"
   ]
  },
  {
   "cell_type": "code",
   "execution_count": 1,
   "metadata": {
    "colab": {
     "base_uri": "https://localhost:8080/"
    },
    "id": "RhYw87m3QFky",
    "outputId": "bf030a54-e6d5-406b-f365-583ec8bc0c8d"
   },
   "outputs": [
    {
     "name": "stdout",
     "output_type": "stream",
     "text": [
      "Mounted at /content/gdrive\n"
     ]
    }
   ],
   "source": [
    "from google.colab import drive\n",
    "drive.mount('/content/gdrive')"
   ]
  },
  {
   "cell_type": "code",
   "execution_count": 2,
   "metadata": {
    "colab": {
     "base_uri": "https://localhost:8080/"
    },
    "id": "5XAIX9zAJ78R",
    "outputId": "a0a63448-d039-4865-e1d5-abf42c059359"
   },
   "outputs": [
    {
     "name": "stdout",
     "output_type": "stream",
     "text": [
      "{'with_mask': 0, 'without_mask': 1}\n",
      "['with_mask', 'without_mask']\n",
      "[0, 1]\n"
     ]
    }
   ],
   "source": [
    "import cv2,os\n",
    "\n",
    "data_path='/content/gdrive/MyDrive/Mask_Detection_using_OpenCV/Train'\n",
    "categories=os.listdir(data_path)\n",
    "labels=[i for i in range(len(categories))]\n",
    "\n",
    "label_dict=dict(zip(categories,labels)) #empty dictionary\n",
    "\n",
    "print(label_dict)\n",
    "print(categories)\n",
    "print(labels)"
   ]
  },
  {
   "cell_type": "code",
   "execution_count": 3,
   "metadata": {
    "id": "YG-O8U3QKO6A"
   },
   "outputs": [],
   "source": [
    "img_size=100\n",
    "data=[]\n",
    "target=[]\n",
    "\n",
    "\n",
    "for category in categories:\n",
    "    folder_path=os.path.join(data_path,category)\n",
    "    img_names=os.listdir(folder_path)\n",
    "        \n",
    "    for img_name in img_names:\n",
    "        img_path=os.path.join(folder_path,img_name)\n",
    "        img=cv2.imread(img_path)\n",
    "\n",
    "        try:\n",
    "            gray=cv2.cvtColor(img,cv2.COLOR_BGR2GRAY)           \n",
    "            #Coverting the image into gray scale\n",
    "            resized=cv2.resize(gray,(img_size,img_size))\n",
    "            #resizing the gray scale into 50x50, since we need a fixed common size for all the images in the dataset\n",
    "            data.append(resized)\n",
    "            target.append(label_dict[category])\n",
    "            #appending the image and the label(categorized) into the list (dataset)\n",
    "\n",
    "        except Exception as e:\n",
    "            print('Exception:',e)\n",
    "            #if any exception rasied, the exception will be printed here. And pass to the next image"
   ]
  },
  {
   "cell_type": "code",
   "execution_count": 4,
   "metadata": {
    "id": "u_KBZeG0QoVU"
   },
   "outputs": [],
   "source": [
    "import numpy as np\n",
    "\n",
    "data=np.array(data)/255.0\n",
    "data=np.reshape(data,(data.shape[0],img_size,img_size,1))\n",
    "target=np.array(target)\n",
    "\n",
    "from keras.utils import np_utils\n",
    "\n",
    "new_target=np_utils.to_categorical(target)"
   ]
  },
  {
   "cell_type": "code",
   "execution_count": 5,
   "metadata": {
    "id": "Gs5r3AHWRAHV"
   },
   "outputs": [],
   "source": [
    "np.save('data',data)\n",
    "np.save('target',new_target)"
   ]
  },
  {
   "cell_type": "code",
   "execution_count": 6,
   "metadata": {
    "id": "aPaFsbK_RCrc"
   },
   "outputs": [],
   "source": [
    "data=np.load('data.npy')\n",
    "target=np.load('target.npy')\n",
    "\n",
    "#loading the save numpy arrays in the previous code"
   ]
  },
  {
   "cell_type": "code",
   "execution_count": 7,
   "metadata": {
    "id": "DKgEEi1ERKld"
   },
   "outputs": [],
   "source": [
    "from keras.models import Sequential\n",
    "from keras.layers import Dense,Activation,Flatten,Dropout\n",
    "from keras.layers import Conv2D,MaxPooling2D\n",
    "from keras.callbacks import ModelCheckpoint\n",
    "\n",
    "model=Sequential()\n",
    "\n",
    "model.add(Conv2D(200,(3,3),input_shape=data.shape[1:]))\n",
    "model.add(Activation('relu'))\n",
    "model.add(MaxPooling2D(pool_size=(2,2)))\n",
    "#The first CNN layer followed by Relu and MaxPooling layers\n",
    "\n",
    "model.add(Conv2D(100,(3,3)))\n",
    "model.add(Activation('relu'))\n",
    "model.add(MaxPooling2D(pool_size=(2,2)))\n",
    "#The second convolution layer followed by Relu and MaxPooling layers\n",
    "\n",
    "model.add(Flatten())\n",
    "model.add(Dropout(0.5))\n",
    "#Flatten layer to stack the output convolutions from second convolution layer\n",
    "model.add(Dense(50,activation='relu'))\n",
    "#Dense layer of 64 neurons\n",
    "model.add(Dense(2,activation='softmax'))\n",
    "#The Final layer with two outputs for two categories\n",
    "\n",
    "model.compile(loss='categorical_crossentropy',optimizer='adam',metrics=['accuracy'])"
   ]
  },
  {
   "cell_type": "code",
   "execution_count": 8,
   "metadata": {
    "id": "syCoONSmROqD"
   },
   "outputs": [],
   "source": [
    "from sklearn.model_selection import train_test_split\n",
    "\n",
    "train_data,test_data,train_target,test_target=train_test_split(data,target,test_size=0.1)"
   ]
  },
  {
   "cell_type": "code",
   "execution_count": 9,
   "metadata": {
    "colab": {
     "base_uri": "https://localhost:8080/"
    },
    "id": "dgGBW_2dRSF0",
    "outputId": "84065a88-9e9b-4be7-a9ab-83d34209fa4c"
   },
   "outputs": [
    {
     "name": "stdout",
     "output_type": "stream",
     "text": [
      "Epoch 1/20\n",
      "16/16 [==============================] - 40s 2s/step - loss: 0.7577 - accuracy: 0.4931 - val_loss: 0.6677 - val_accuracy: 0.5317\n",
      "INFO:tensorflow:Assets written to: model-001.model/assets\n",
      "Epoch 2/20\n",
      "16/16 [==============================] - 38s 2s/step - loss: 0.6254 - accuracy: 0.6348 - val_loss: 0.6886 - val_accuracy: 0.5000\n",
      "Epoch 3/20\n",
      "16/16 [==============================] - 39s 2s/step - loss: 0.5758 - accuracy: 0.6926 - val_loss: 0.5286 - val_accuracy: 0.7540\n",
      "INFO:tensorflow:Assets written to: model-003.model/assets\n",
      "Epoch 4/20\n",
      "16/16 [==============================] - 39s 2s/step - loss: 0.3890 - accuracy: 0.8506 - val_loss: 0.4567 - val_accuracy: 0.8016\n",
      "INFO:tensorflow:Assets written to: model-004.model/assets\n",
      "Epoch 5/20\n",
      "16/16 [==============================] - 38s 2s/step - loss: 0.3185 - accuracy: 0.8905 - val_loss: 0.4078 - val_accuracy: 0.8413\n",
      "INFO:tensorflow:Assets written to: model-005.model/assets\n",
      "Epoch 6/20\n",
      "16/16 [==============================] - 50s 3s/step - loss: 0.1843 - accuracy: 0.9257 - val_loss: 0.4174 - val_accuracy: 0.8175\n",
      "Epoch 7/20\n",
      "16/16 [==============================] - 39s 2s/step - loss: 0.1994 - accuracy: 0.9106 - val_loss: 0.3104 - val_accuracy: 0.8651\n",
      "INFO:tensorflow:Assets written to: model-007.model/assets\n",
      "Epoch 8/20\n",
      "16/16 [==============================] - 39s 2s/step - loss: 0.1177 - accuracy: 0.9600 - val_loss: 0.3501 - val_accuracy: 0.8889\n",
      "Epoch 9/20\n",
      "16/16 [==============================] - 38s 2s/step - loss: 0.0769 - accuracy: 0.9738 - val_loss: 0.3040 - val_accuracy: 0.8889\n",
      "INFO:tensorflow:Assets written to: model-009.model/assets\n",
      "Epoch 10/20\n",
      "16/16 [==============================] - 38s 2s/step - loss: 0.0970 - accuracy: 0.9559 - val_loss: 0.4385 - val_accuracy: 0.8254\n",
      "Epoch 11/20\n",
      "16/16 [==============================] - 38s 2s/step - loss: 0.1228 - accuracy: 0.9562 - val_loss: 0.3461 - val_accuracy: 0.8889\n",
      "Epoch 12/20\n",
      "16/16 [==============================] - 39s 2s/step - loss: 0.0685 - accuracy: 0.9833 - val_loss: 0.3640 - val_accuracy: 0.8968\n",
      "Epoch 13/20\n",
      "16/16 [==============================] - 38s 2s/step - loss: 0.0641 - accuracy: 0.9813 - val_loss: 0.3282 - val_accuracy: 0.8730\n",
      "Epoch 14/20\n",
      "16/16 [==============================] - 39s 2s/step - loss: 0.0365 - accuracy: 0.9830 - val_loss: 0.5470 - val_accuracy: 0.8730\n",
      "Epoch 15/20\n",
      "16/16 [==============================] - 38s 2s/step - loss: 0.0617 - accuracy: 0.9809 - val_loss: 0.3538 - val_accuracy: 0.8730\n",
      "Epoch 16/20\n",
      "16/16 [==============================] - 38s 2s/step - loss: 0.0297 - accuracy: 0.9954 - val_loss: 0.3672 - val_accuracy: 0.8810\n",
      "Epoch 17/20\n",
      "16/16 [==============================] - 39s 2s/step - loss: 0.0299 - accuracy: 0.9920 - val_loss: 0.4004 - val_accuracy: 0.8810\n",
      "Epoch 18/20\n",
      "16/16 [==============================] - 38s 2s/step - loss: 0.0395 - accuracy: 0.9838 - val_loss: 0.3802 - val_accuracy: 0.8889\n",
      "Epoch 19/20\n",
      "16/16 [==============================] - 38s 2s/step - loss: 0.0457 - accuracy: 0.9872 - val_loss: 0.4301 - val_accuracy: 0.8730\n",
      "Epoch 20/20\n",
      "16/16 [==============================] - 38s 2s/step - loss: 0.0322 - accuracy: 0.9938 - val_loss: 0.4051 - val_accuracy: 0.8730\n"
     ]
    }
   ],
   "source": [
    "checkpoint = ModelCheckpoint('model-{epoch:03d}.model',monitor='val_loss',verbose=0,save_best_only=True,mode='auto')\n",
    "history=model.fit(train_data,train_target,epochs=20,callbacks=[checkpoint],validation_split=0.2)"
   ]
  },
  {
   "cell_type": "code",
   "execution_count": 10,
   "metadata": {
    "colab": {
     "base_uri": "https://localhost:8080/",
     "height": 279
    },
    "id": "DlPWTBc0RWZ6",
    "outputId": "0222de2a-8c71-475f-e537-3704218b93c5"
   },
   "outputs": [
    {
     "data": {
      "image/png": "[encoded data removed]",
      "text/plain": [
       "<Figure size 432x288 with 1 Axes>"
      ]
     },
     "metadata": {
      "needs_background": "light",
      "tags": []
     },
     "output_type": "display_data"
    }
   ],
   "source": [
    "from matplotlib import pyplot as plt\n",
    "\n",
    "plt.plot(history.history['loss'],'r',label='training loss')\n",
    "plt.plot(history.history['val_loss'],label='validation loss')\n",
    "plt.xlabel('# epochs')\n",
    "plt.ylabel('loss')\n",
    "plt.legend()\n",
    "plt.show()"
   ]
  },
  {
   "cell_type": "code",
   "execution_count": 11,
   "metadata": {
    "colab": {
     "base_uri": "https://localhost:8080/",
     "height": 279
    },
    "id": "21K8FaO6ReDl",
    "outputId": "d6bf70ca-0549-46ff-f622-1ebcee85e04c"
   },
   "outputs": [
    {
     "data": {
      "image/png": "[encoded data removed]",
      "text/plain": [
       "<Figure size 432x288 with 1 Axes>"
      ]
     },
     "metadata": {
      "needs_background": "light",
      "tags": []
     },
     "output_type": "display_data"
    }
   ],
   "source": [
    "plt.plot(history.history['accuracy'],'r',label='training accuracy')\n",
    "plt.plot(history.history['val_accuracy'],label='validation accuracy')\n",
    "plt.xlabel('# epochs')\n",
    "plt.ylabel('loss')\n",
    "plt.legend()\n",
    "plt.show()"
   ]
  },
  {
   "cell_type": "code",
   "execution_count": 12,
   "metadata": {
    "colab": {
     "base_uri": "https://localhost:8080/"
    },
    "id": "ayqY1fdRRoQm",
    "outputId": "ed138fe8-91f4-4b6b-f257-7802c4a5a84c"
   },
   "outputs": [
    {
     "name": "stdout",
     "output_type": "stream",
     "text": [
      "3/3 [==============================] - 1s 367ms/step - loss: 0.3178 - accuracy: 0.8857\n",
      "[0.31778162717819214, 0.8857142925262451]\n"
     ]
    }
   ],
   "source": [
    "print(model.evaluate(test_data,test_target))"
   ]
  },
  {
   "cell_type": "code",
   "execution_count": 13,
   "metadata": {
    "id": "3fImXYQkRvWT"
   },
   "outputs": [],
   "source": [
    "from keras.models import load_model\n",
    "import cv2\n",
    "import numpy as np\n",
    "from google.colab.patches import cv2_imshow"
   ]
  },
  {
   "cell_type": "code",
   "execution_count": 14,
   "metadata": {
    "id": "5admTz5hRznj"
   },
   "outputs": [],
   "source": [
    "model = load_model('model-009.model')\n",
    " \n",
    "face_clsfr=cv2.CascadeClassifier('/content/gdrive/MyDrive/Mask_Detection_using_OpenCV/haarcascade_frontalface_default.xml')\n",
    " \n",
    "source=cv2.VideoCapture(0)\n",
    " \n",
    "labels_dict={0:'MASK',1:'NO MASK'}\n",
    "color_dict={0:(0,255,0),1:(0,0,255)}"
   ]
  },
  {
   "cell_type": "code",
   "execution_count": null,
   "metadata": {
    "id": "P3SSQ0xIR3kT"
   },
   "outputs": [],
   "source": [
    "while(True):\n",
    " \n",
    "    ret,img=source.read()\n",
    "    gray=cv2.cvtColor(img,cv2.COLOR_BGR2GRAY)\n",
    "    #gray=cv2.cvtColor(img,cv2.COLOR_BGR2GRAY)\n",
    "    faces=face_clsfr.detectMultiScale(gray,1.3,5)  \n",
    " \n",
    "    for (x,y,w,h) in faces:\n",
    "    \n",
    "        face_img=gray[y:y+w,x:x+w]\n",
    "        resized=cv2.resize(face_img,(100,100))\n",
    "        normalized=resized/255.0\n",
    "        reshaped=np.reshape(normalized,(1,100,100,1))\n",
    "        result=model.predict(reshaped)\n",
    " \n",
    "        label=np.argmax(result,axis=1)[0]\n",
    "      \n",
    "        cv2.rectangle(img,(x,y),(x+w,y+h),color_dict[label],2)\n",
    "        cv2.rectangle(img,(x,y-40),(x+w,y),color_dict[label],-1)\n",
    "        cv2.putText(img, labels_dict[label], (x, y-10),cv2.FONT_HERSHEY_SIMPLEX,0.8,(255,255,255),2)\n",
    "        \n",
    "        \n",
    "    cv2_imshow('LIVE',img)\n",
    "    key=cv2.waitKey(1)\n",
    "    \n",
    "    if(key==27):\n",
    "        break\n",
    "        \n",
    "cv2.destroyAllWindows()\n",
    "source.release()"
   ]
  },
  {
   "cell_type": "code",
   "execution_count": null,
   "metadata": {
    "id": "nY9cHpLyR85D"
   },
   "outputs": [],
   "source": [
    "import cv2\n",
    "import numpy as np\n",
    " \n",
    "cap = cv2.VideoCapture(0)\n",
    " \n",
    "while(1):\n",
    " \n",
    "    # Take each frame\n",
    "    _, frame = cap.read()\n",
    " \n",
    "    # Convert BGR to HSV\n",
    "    hsv = cv2.cvtColor(frame, cv2.COLOR_BGR2HSV)\n",
    " \n",
    "    # define range of blue color in HSV\n",
    "    lower_blue = np.array([110,50,50])\n",
    "    upper_blue = np.array([130,255,255])\n",
    " \n",
    "    # Threshold the HSV image to get only blue colors\n",
    "    mask = cv2.inRange(hsv, lower_blue, upper_blue)\n",
    " \n",
    "    # Bitwise-AND mask and original image\n",
    "    res = cv2.bitwise_and(frame,frame, mask= mask)\n",
    " \n",
    "    cv2.imshow('frame',frame)\n",
    "    cv2.imshow('mask',mask)\n",
    "    cv2.imshow('res',res)\n",
    "    k = cv2.waitKey(5) & 0xFF\n",
    "    if k == 27:\n",
    "        break\n",
    " \n",
    "cv2.destroyAllWindows()"
   ]
  }
 ],
 "metadata": {
  "colab": {
   "collapsed_sections": [],
   "name": "Mask detection using OpenCV.ipynb",
   "provenance": []
  },
  "kernelspec": {
   "display_name": "Python 3",
   "language": "python",
   "name": "python3"
  },
  "language_info": {
   "codemirror_mode": {
    "name": "ipython",
    "version": 3
   },
   "file_extension": ".py",
   "mimetype": "text/x-python",
   "name": "python",
   "nbconvert_exporter": "python",
   "pygments_lexer": "ipython3",
   "version": "3.8.5"
  }
 },
 "nbformat": 4,
 "nbformat_minor": 1
}
